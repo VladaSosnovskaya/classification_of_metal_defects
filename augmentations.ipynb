{
 "cells": [
  {
   "cell_type": "code",
   "execution_count": null,
   "metadata": {},
   "outputs": [
    {
     "name": "stdout",
     "output_type": "stream",
     "text": [
      "для класса Peeling аугментация завершена и изображения сохранены\n"
     ]
    }
   ],
   "source": [
    "import os\n",
    "from PIL import Image, ImageEnhance\n",
    "\n",
    "def augment_image(image):\n",
    "    augmented_images = []\n",
    "\n",
    "    # Поворот на 180 градусов\n",
    "    # rotated = image.rotate(180)\n",
    "    # augmented_images.append(rotated)\n",
    "\n",
    "    # Отражение по вертикали\n",
    "    # vertical_flip = image.transpose(Image.FLIP_TOP_BOTTOM)\n",
    "    # vertical_rotated = vertical_flip.rotate(90)\n",
    "    # augmented_images.append(vertical_rotated)\n",
    "\n",
    "    # Отражение по горизонтали\n",
    "    # horizontal_flip = image.transpose(Image.FLIP_LEFT_RIGHT)\n",
    "    # horizontal_rotated = horizontal_flip.rotate(90)\n",
    "    # augmented_images.append(horizontal_rotated)\n",
    "\n",
    "    # rotated = horizontal_flip.rotate(270)\n",
    "    # augmented_images.append(rotated)\n",
    "\n",
    "    # Увеличение яркости на 1.5\n",
    "    brightness_enhancer = ImageEnhance.Brightness(image)\n",
    "    brightened_image = brightness_enhancer.enhance(1.5)\n",
    "    augmented_images.append(brightened_image)\n",
    "\n",
    "    # Уменьшение яркости на 1.5\n",
    "    darkened_image = brightness_enhancer.enhance(0.5)  # 0.5 эквивалентно уменьшению яркости на 1.5\n",
    "    augmented_images.append(darkened_image)\n",
    "\n",
    "    return augmented_images\n",
    "\n",
    "\n",
    "# classes = [\"Crazing\", \"Inclusion\", \"Patches\", \"Pitted\", \"Rolled\", \"Scratches\"] \n",
    "classes = ['Peeling']\n",
    "\n",
    "for im_class in classes:\n",
    "    input_folder = f'NEU2/train/{im_class}'\n",
    "    output_folder = f'NEU2/train/{im_class}'\n",
    "\n",
    "    if not os.path.exists(output_folder):\n",
    "        os.makedirs(output_folder)\n",
    "    image_files = [f for f in os.listdir(input_folder) if f.lower().endswith(('png', 'jpg', 'jpeg', 'bmp'))]\n",
    "\n",
    "    for image_file in image_files:\n",
    "        image_path = os.path.join\n",
    "        image_path = os.path.join(input_folder, image_file)\n",
    "        image = Image.open(image_path)\n",
    "\n",
    "        augmented_images = augment_image(image)\n",
    "\n",
    "        for i, augmented_image in enumerate(augmented_images):\n",
    "            base_name, ext = os.path.splitext(image_file)\n",
    "            new_image_name = f\"{base_name}_augmented_{i + 1}{ext}\"\n",
    "            new_image_path = os.path.join(output_folder, new_image_name)\n",
    "            augmented_image.save(new_image_path)\n",
    "\n",
    "    print(f\"для класса {im_class} аугментация завершена и изображения сохранены\")"
   ]
  }
 ],
 "metadata": {
  "kernelspec": {
   "display_name": "Python 3",
   "language": "python",
   "name": "python3"
  },
  "language_info": {
   "codemirror_mode": {
    "name": "ipython",
    "version": 3
   },
   "file_extension": ".py",
   "mimetype": "text/x-python",
   "name": "python",
   "nbconvert_exporter": "python",
   "pygments_lexer": "ipython3",
   "version": "3.11.9"
  }
 },
 "nbformat": 4,
 "nbformat_minor": 2
}
