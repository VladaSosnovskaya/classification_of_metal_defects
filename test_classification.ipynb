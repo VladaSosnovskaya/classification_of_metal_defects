{
 "cells": [
  {
   "cell_type": "code",
   "execution_count": null,
   "metadata": {},
   "outputs": [],
   "source": [
    "import numpy as np\n",
    "import os\n",
    "from tensorflow.keras.models import load_model\n",
    "from tensorflow.keras.preprocessing.image import load_img, img_to_array"
   ]
  },
  {
   "cell_type": "code",
   "execution_count": null,
   "metadata": {},
   "outputs": [],
   "source": [
    "base_dir = 'test_images'\n",
    "train_dir = os.path.join(base_dir, 'train')\n",
    "test_dir = os.path.join(base_dir, 'new_red_test')\n",
    "validation_dir = os.path.join(base_dir, 'valid')\n",
    "all_dirs = [train_dir, test_dir, validation_dir]"
   ]
  },
  {
   "cell_type": "code",
   "execution_count": null,
   "metadata": {},
   "outputs": [],
   "source": [
    "img_height = 224\n",
    "img_width = 224\n",
    "batch_size = 32\n",
    "folder = \"6_classes_98_NEU2\""
   ]
  },
  {
   "cell_type": "code",
   "execution_count": null,
   "metadata": {},
   "outputs": [],
   "source": [
    "classes = ['crazing',\n",
    "        'inclusion',\n",
    "        'patches',\n",
    "        'pitted',\n",
    "        'rolled',\n",
    "        'scratches'\n",
    "        ]"
   ]
  },
  {
   "cell_type": "code",
   "execution_count": 77,
   "metadata": {},
   "outputs": [
    {
     "name": "stdout",
     "output_type": "stream",
     "text": [
      "Найдено 11 изображений\n"
     ]
    }
   ],
   "source": [
    "image_files = [f for f in os.listdir(test_dir) if f.lower().endswith(('.jpg', '.jpeg', '.png'))]\n",
    "num_images = len(image_files)\n",
    "print(f\"Найдено {num_images} изображений\")"
   ]
  },
  {
   "cell_type": "code",
   "execution_count": null,
   "metadata": {},
   "outputs": [
    {
     "name": "stdout",
     "output_type": "stream",
     "text": [
      "Форма x_test: (11, 224, 224, 3)\n"
     ]
    }
   ],
   "source": [
    "x_test = []\n",
    "\n",
    "for img_file in image_files:\n",
    "    img_path = os.path.join(test_dir, img_file)\n",
    "    img = load_img(img_path, target_size=(img_height, img_width))\n",
    "    img_array = img_to_array(img) / 255.0  # Нормализация\n",
    "    x_test.append(img_array)\n",
    "\n",
    "x_test = np.array(x_test)\n",
    "print(\"Форма x_test:\", x_test.shape)"
   ]
  },
  {
   "cell_type": "code",
   "execution_count": null,
   "metadata": {},
   "outputs": [
    {
     "name": "stdout",
     "output_type": "stream",
     "text": [
      "Изображение 1: предсказанный класс - patches (вероятность: 0.59)\n",
      "Изображение 2: предсказанный класс - scratches (вероятность: 0.85)\n",
      "Изображение 3: предсказанный класс - patches (вероятность: 0.08)\n",
      "Изображение 4: предсказанный класс - scratches (вероятность: 0.05)\n",
      "Изображение 5: предсказанный класс - patches (вероятность: 0.10)\n",
      "Изображение 6: предсказанный класс - patches (вероятность: 0.84)\n",
      "Изображение 7: предсказанный класс - crazing (вероятность: 0.09)\n",
      "Изображение 8: предсказанный класс - crazing (вероятность: 0.76)\n",
      "Изображение 9: предсказанный класс - patches (вероятность: 0.90)\n",
      "Изображение 10: предсказанный класс - crazing (вероятность: 0.01)\n",
      "Изображение 11: предсказанный класс - patches (вероятность: 1.00)\n",
      "\n",
      "Детальные вероятности по классам:\n",
      "\n",
      "Изображение 1:\n",
      "crazing: 0.0000\n",
      "inclusion: 0.0000\n",
      "patches: 0.5877\n",
      "pitted: 0.0000\n",
      "rolled: 0.0000\n",
      "scratches: 0.0001\n",
      "\n",
      "Изображение 2:\n",
      "crazing: 0.0000\n",
      "inclusion: 0.0000\n",
      "patches: 0.0281\n",
      "pitted: 0.0000\n",
      "rolled: 0.0000\n",
      "scratches: 0.8487\n",
      "\n",
      "Изображение 3:\n",
      "crazing: 0.0000\n",
      "inclusion: 0.0000\n",
      "patches: 0.0813\n",
      "pitted: 0.0000\n",
      "rolled: 0.0000\n",
      "scratches: 0.0059\n",
      "\n",
      "Изображение 4:\n",
      "crazing: 0.0236\n",
      "inclusion: 0.0000\n",
      "patches: 0.0010\n",
      "pitted: 0.0000\n",
      "rolled: 0.0000\n",
      "scratches: 0.0511\n",
      "\n",
      "Изображение 5:\n",
      "crazing: 0.0002\n",
      "inclusion: 0.0000\n",
      "patches: 0.1028\n",
      "pitted: 0.0000\n",
      "rolled: 0.0000\n",
      "scratches: 0.0190\n",
      "\n",
      "Изображение 6:\n",
      "crazing: 0.0000\n",
      "inclusion: 0.0000\n",
      "patches: 0.8440\n",
      "pitted: 0.0000\n",
      "rolled: 0.0000\n",
      "scratches: 0.0012\n",
      "\n",
      "Изображение 7:\n",
      "crazing: 0.0882\n",
      "inclusion: 0.0000\n",
      "patches: 0.0026\n",
      "pitted: 0.0000\n",
      "rolled: 0.0000\n",
      "scratches: 0.0088\n",
      "\n",
      "Изображение 8:\n",
      "crazing: 0.7614\n",
      "inclusion: 0.0000\n",
      "patches: 0.0226\n",
      "pitted: 0.0000\n",
      "rolled: 0.0000\n",
      "scratches: 0.0000\n",
      "\n",
      "Изображение 9:\n",
      "crazing: 0.0000\n",
      "inclusion: 0.0000\n",
      "patches: 0.8962\n",
      "pitted: 0.0000\n",
      "rolled: 0.0000\n",
      "scratches: 0.0000\n",
      "\n",
      "Изображение 10:\n",
      "crazing: 0.0069\n",
      "inclusion: 0.0000\n",
      "patches: 0.0000\n",
      "pitted: 0.0000\n",
      "rolled: 0.0000\n",
      "scratches: 0.0000\n",
      "\n",
      "Изображение 11:\n",
      "crazing: 0.0000\n",
      "inclusion: 0.0000\n",
      "patches: 0.9988\n",
      "pitted: 0.0000\n",
      "rolled: 0.0000\n",
      "scratches: 0.0001\n"
     ]
    }
   ],
   "source": [
    "loaded_models = [load_model(f\"{folder}/model_{i}.keras\") for i in classes]\n",
    "\n",
    "predictions = np.zeros((len(x_test), len(classes)))\n",
    "\n",
    "for i, class_name in enumerate(classes):\n",
    "    model = loaded_models[i]\n",
    "    predictions[:, i] = model.predict(x_test, verbose=0).flatten()\n",
    "\n",
    "predicted_classes = np.argmax(predictions, axis=1)\n",
    "\n",
    "for i, class_idx in enumerate(predicted_classes):\n",
    "    print(f\"Изображение {i+1}: предсказанный класс - {classes[class_idx]} (вероятность: {predictions[i, class_idx]:.2f})\")\n",
    "\n",
    "print(\"\\nДетальные вероятности по классам:\")\n",
    "for i in range(len(x_test)):\n",
    "    print(f\"\\nИзображение {i+1}:\")\n",
    "    for j, class_name in enumerate(classes):\n",
    "        print(f\"{class_name}: {predictions[i, j]:.4f}\")"
   ]
  }
 ],
 "metadata": {
  "kernelspec": {
   "display_name": ".venv",
   "language": "python",
   "name": "python3"
  },
  "language_info": {
   "codemirror_mode": {
    "name": "ipython",
    "version": 3
   },
   "file_extension": ".py",
   "mimetype": "text/x-python",
   "name": "python",
   "nbconvert_exporter": "python",
   "pygments_lexer": "ipython3",
   "version": "3.12.3"
  }
 },
 "nbformat": 4,
 "nbformat_minor": 2
}
